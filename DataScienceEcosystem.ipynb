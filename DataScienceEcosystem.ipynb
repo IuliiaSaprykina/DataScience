{
 "cells": [
  {
   "cell_type": "markdown",
   "id": "e3eddc66",
   "metadata": {},
   "source": [
    "# Data Science Tools and Ecosystem\n",
    "\n",
    "In this notebook, Data Science Tools and Ecosystem are summarized.\n"
   ]
  },
  {
   "cell_type": "markdown",
   "id": "a9b23b1a",
   "metadata": {},
   "source": [
    "### Some of the popular languages that Data Scientists use are:\n",
    "    \n",
    "1. Python\n",
    "2. R\n",
    "3. SQL\n",
    "4. Julia"
   ]
  },
  {
   "cell_type": "markdown",
   "id": "7048c238",
   "metadata": {},
   "source": [
    "### Some of the commonly used libraries used by Data Scientists include:"
   ]
  },
  {
   "cell_type": "markdown",
   "id": "5929a570",
   "metadata": {},
   "source": [
    "1. NumPy\n",
    "2. Pandas\n",
    "3. Matplotlib"
   ]
  },
  {
   "cell_type": "markdown",
   "id": "214028ef",
   "metadata": {},
   "source": [
    "|Data Science Tools |\n",
    "| --------------- |  \n",
    "| PostgreSQL |\n",
    "| Apache SparkSQL |\n",
    "| TensorFlow lite |\n"
   ]
  },
  {
   "cell_type": "markdown",
   "id": "81f652f6",
   "metadata": {},
   "source": [
    "### Below are a few examples of evaluating arithmetic expressions in Python\n",
    "\n",
    "This a simple arithmetic expression to mutiply then add integers"
   ]
  },
  {
   "cell_type": "code",
   "execution_count": 1,
   "id": "1f38a6fe",
   "metadata": {},
   "outputs": [
    {
     "data": {
      "text/plain": [
       "17"
      ]
     },
     "execution_count": 1,
     "metadata": {},
     "output_type": "execute_result"
    }
   ],
   "source": [
    "(3*4)+5"
   ]
  },
  {
   "cell_type": "code",
   "execution_count": 3,
   "id": "e5a6358a",
   "metadata": {},
   "outputs": [
    {
     "data": {
      "text/plain": [
       "3.3333333333333335"
      ]
     },
     "execution_count": 3,
     "metadata": {},
     "output_type": "execute_result"
    }
   ],
   "source": [
    "# This will convert 200 minutes to hours by diving by 60\n",
    "200/60"
   ]
  },
  {
   "cell_type": "markdown",
   "id": "9480529a",
   "metadata": {},
   "source": [
    "**Objectives:**  \n",
    "    \n",
    "* List popular languages for Data Science\n",
    "* List popular open source tools for Data Science\n",
    "* Libraries, APIs in Data Science"
   ]
  },
  {
   "cell_type": "markdown",
   "id": "521b992a",
   "metadata": {},
   "source": [
    "## Author\n",
    "Iuliia Saprykina"
   ]
  },
  {
   "cell_type": "code",
   "execution_count": null,
   "id": "b89aef65",
   "metadata": {},
   "outputs": [],
   "source": []
  }
 ],
 "metadata": {
  "kernelspec": {
   "display_name": "Python 3 (ipykernel)",
   "language": "python",
   "name": "python3"
  },
  "language_info": {
   "codemirror_mode": {
    "name": "ipython",
    "version": 3
   },
   "file_extension": ".py",
   "mimetype": "text/x-python",
   "name": "python",
   "nbconvert_exporter": "python",
   "pygments_lexer": "ipython3",
   "version": "3.11.5"
  }
 },
 "nbformat": 4,
 "nbformat_minor": 5
}
